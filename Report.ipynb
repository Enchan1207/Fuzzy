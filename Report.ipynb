{
 "cells": [
  {
   "cell_type": "markdown",
   "metadata": {},
   "source": [
    "# Report\n",
    "\n",
    "## Overview\n",
    "\n",
    "知識工学 演習"
   ]
  },
  {
   "cell_type": "markdown",
   "metadata": {},
   "source": [
    "## Contents"
   ]
  },
  {
   "cell_type": "markdown",
   "metadata": {},
   "source": [
    "### 問題1\n",
    "\n",
    "$A \\cup B$ を図示せよ. ($A, B, A \\cup B$)"
   ]
  },
  {
   "cell_type": "markdown",
   "metadata": {},
   "source": [
    "### 問題2\n",
    "\n",
    "$A \\cap B$ を図示せよ. ($A, B, A \\cap B$)"
   ]
  },
  {
   "cell_type": "markdown",
   "metadata": {},
   "source": [
    "### 問題3\n",
    "\n",
    "$\\bar{B}$ を図示せよ. ($B, \\bar{B}$)"
   ]
  },
  {
   "cell_type": "markdown",
   "metadata": {},
   "source": [
    "### 問題4\n",
    "\n",
    "$A \\cap B \\cap C$ を図示せよ. ($A, B, C, A \\cap B \\cap C$)"
   ]
  },
  {
   "cell_type": "markdown",
   "metadata": {},
   "source": [
    "### 問題5\n",
    "\n",
    "結合律 $ A \\cup (B \\cup C) = (A \\cup B) \\cup C $ を図示せよ.  \n",
    "($A, (B \\cup C), (A \\cup B), C$)"
   ]
  },
  {
   "cell_type": "markdown",
   "metadata": {},
   "source": [
    "### 問題6\n",
    "\n",
    "結合律 $ A \\cap (B \\cap C) = (A \\cap B) \\cap C $ を図示せよ.  \n",
    "($A, (B \\cap C), (A \\cap B), C$)"
   ]
  },
  {
   "cell_type": "markdown",
   "metadata": {},
   "source": [
    "### 問題7\n",
    "\n",
    "分配律 $ A \\cup (B \\cap C) = (A \\cup B) \\cap (A \\cup C) $ を図示せよ.\n",
    "\n",
    "($A, (B \\cap C), (A \\cup B), (A \\cup C), (A \\cup B) \\cap (A \\cup C)$)"
   ]
  }
 ],
 "metadata": {
  "kernelspec": {
   "display_name": "Python 3.9.13 64-bit",
   "language": "python",
   "name": "python3"
  },
  "language_info": {
   "name": "python",
   "version": "3.9.13"
  },
  "orig_nbformat": 4,
  "vscode": {
   "interpreter": {
    "hash": "aee8b7b246df8f9039afb4144a1f6fd8d2ca17a180786b69acc140d282b71a49"
   }
  }
 },
 "nbformat": 4,
 "nbformat_minor": 2
}
